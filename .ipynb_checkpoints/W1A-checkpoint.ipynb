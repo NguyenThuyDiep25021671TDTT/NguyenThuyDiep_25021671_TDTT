{
 "cells": [
  {
   "cell_type": "code",
   "execution_count": 1,
   "id": "b8c5b1a8-3e5e-49b2-a5cf-f8bc35dea0ca",
   "metadata": {},
   "outputs": [
    {
     "name": "stdout",
     "output_type": "stream",
     "text": [
      "2\n"
     ]
    }
   ],
   "source": [
    "#W1A1\n",
    "a=7# khai báo một biến có tên là a và gán cho nó giá trị số nguyên là 7\n",
    "b=5# khai báo một biến có tên là b và gán cho nó giá trị số nguyên là 5\n",
    "c=a-b#thực hiện phép tính trừ\n",
    "print(c)#hiển thị giá trị đang được lưu trữ trong biến c\n",
    "#Kết quả in: 2"
   ]
  },
  {
   "cell_type": "code",
   "execution_count": 2,
   "id": "e50a5e7a-cef7-4047-abf6-474c46cf8ede",
   "metadata": {},
   "outputs": [
    {
     "name": "stdout",
     "output_type": "stream",
     "text": [
      "Thành phố: Hà Nội -Năm: 2025\n"
     ]
    }
   ],
   "source": [
    "#W1A2\n",
    "city=\"Hà Nội\"#khai báo một biến có tên là city và gán cho nó giá trị là một chuỗi ký tự (string) \"Hà Nội\"\n",
    "year=2025#khai báo một biến tên là year và gán cho nó giá trị là một số nguyên (integer) là 2025\n",
    "print(\"Thành phố:\",city,\"-Năm:\",year)#sử dụng hàm print() để hiển thị thông tin ra màn hình\n",
    "                                     #hàm này nhận vào 4 đối số: chuỗi \"Thành phố: \", biến city, chuỗi \" - Năm: \", và biến year\n",
    "                                     #nó sẽ in lần lượt giá trị của từng đối số này theo đúng thứ tự, và tự động thêm một dấu cách vào giữa chúng\n",
    "#Kết quả in: Hà Nội -Năm: 2025"
   ]
  },
  {
   "cell_type": "code",
   "execution_count": 4,
   "id": "b540f4a7-6ac4-42a3-b603-aaee2230e1ed",
   "metadata": {},
   "outputs": [
    {
     "name": "stdout",
     "output_type": "stream",
     "text": [
      "10\n"
     ]
    }
   ],
   "source": [
    "#W1A3\n",
    "n=4#khai báo một biến n và gán cho nó giá trị là 4. Biến này xác định giới hạn trên của vòng lặp\n",
    "t=0#khai báo biến t (viết tắt của \"total\" - tổng) và khởi tạo giá trị ban đầu cho nó là 0. Biến này sẽ được dùng để lưu trữ kết quả của phép cộng dồn\n",
    "for i in range(1,n+1):#\n",
    "    t +=i\n",
    "print(t)\n",
    "#Kết quả in: 10"
   ]
  },
  {
   "cell_type": "code",
   "execution_count": 4,
   "id": "acbaa69b-5994-4ed7-93ed-57a0df0451a2",
   "metadata": {},
   "outputs": [
    {
     "name": "stdout",
     "output_type": "stream",
     "text": [
      "1 là số lẻ\n",
      "2 là số chẵn\n",
      "3 là số lẻ\n",
      "4 là số chẵn\n"
     ]
    }
   ],
   "source": [
    "#W1A4\n",
    "numbers = [1, 2, 3, 4]#Dòng này khởi tạo một danh sách (list) có tên là numbers chứa 4 số nguyên: 1, 2, 3, và 4\n",
    "for x in numbers:#Đây là một vòng lặp for. Nó sẽ duyệt qua từng phần tử trong danh sách numbers. Ở mỗi lần lặp, phần tử hiện tại sẽ được gán cho biến x. (Lần đầu x = 1, lần hai x = 2,...)\n",
    " if x % 2 == 0:#Đây là một câu lệnh điều kiện if. Nó kiểm tra xem giá trị của x khi chia cho 2 có số dư (%) bằng 0 hay không. Đây chính là cách để xác định một số có phải là số chẵn không.\n",
    "      print(x, \"là số chẵn\")#Nếu điều kiện ở trên là đúng (tức x là số chẵn), dòng lệnh này sẽ được thực thi. Nó sẽ in ra giá trị của x cùng với chuỗi \"là số chẵn\".\n",
    " else:#Nếu điều kiện trong if là sai (tức x không phải số chẵn), chương trình sẽ chuyển sang thực thi khối lệnh của else.\n",
    "      print(x, \"là số lẻ\")#Dòng này sẽ được thực thi khi x là số lẻ. Nó sẽ in ra giá trị của x cùng với chuỗi \"là số lẻ\".\n",
    "     #Kết quả in:  1 là số lẻ\n",
    "                #  2 là số chẵn\n",
    "                #  3 là số lẻ\n",
    "                #  4 là số chẵn"
   ]
  },
  {
   "cell_type": "code",
   "execution_count": 8,
   "id": "73276cce-18be-4a56-bb19-3beca8598774",
   "metadata": {},
   "outputs": [
    {
     "name": "stdout",
     "output_type": "stream",
     "text": [
      "Số phần tử trong danh sách là: 1\n",
      "Số phần tử trong danh sách là: 2\n",
      "Số phần tử trong danh sách là: 3\n",
      "Số phần tử trong danh sách là: 4\n"
     ]
    }
   ],
   "source": [
    "#W1A5\n",
    "animals = [\"cat\", \"dog\", \"cat\", \"bird\"]#Dòng này khởi tạo một danh sách (list) tên là animals chứa 4 chuỗi ký tự.\n",
    "count = 0#Dòng này khởi tạo một biến tên là count và gán cho nó giá trị ban đầu là 0. Biến này sẽ được dùng để đếm.\n",
    "for a in animals:#Đây là một vòng lặp for. Nó sẽ duyệt qua từng phần tử trong danh sách animals. Ở mỗi lần lặp, phần tử hiện tại sẽ được gán cho biến a.\n",
    "    count += 1#Dòng này nằm bên trong vòng lặp. Nó tăng giá trị của biến count lên 1. Đây là cách viết tắt của count = count + 1.\n",
    "    print(\"Số phần tử trong danh sách là:\", count) #Sau khi vòng lặp đã duyệt qua tất cả các phần tử, dòng này sẽ được thực thi. Nó in ra chuỗi \"Số phần tử trong danh sách là:\" theo sau là giá trị cuối cùng của biến count\n",
    "#Kết quả in: Số phần tử trong danh sách là: 4"
   ]
  },
  {
   "cell_type": "code",
   "execution_count": 10,
   "id": "fa65f947-dc1e-4fe6-9beb-f258a2d7cb44",
   "metadata": {},
   "outputs": [
    {
     "name": "stdout",
     "output_type": "stream",
     "text": [
      "=== AI Prediction System ===\n",
      "1) Sentiment analysis\n",
      "2) Weather forecast\n",
      "3) Exit\n"
     ]
    },
    {
     "name": "stdin",
     "output_type": "stream",
     "text": [
      "Please choose an option:  2\n"
     ]
    }
   ],
   "source": [
    "#W1A6\n",
    "print(\"=== AI Prediction System ===\")\n",
    "print(\"1) Sentiment analysis\")\n",
    "print(\"2) Weather forecast\")\n",
    "print(\"3) Exit\")\n",
    "choice = input(\"Please choose an option: \")"
   ]
  },
  {
   "cell_type": "code",
   "execution_count": 11,
   "id": "f5911aab-a57b-4420-99a8-bf992229f4fe",
   "metadata": {},
   "outputs": [
    {
     "name": "stdin",
     "output_type": "stream",
     "text": [
      "Nhập số:  23\n"
     ]
    },
    {
     "name": "stdout",
     "output_type": "stream",
     "text": [
      "Số lẻ\n"
     ]
    }
   ],
   "source": [
    "#W1A7\n",
    "num_str = input(\"Nhập số: \")\n",
    "num = int(num_str)  # Chuyển đổi chuỗi nhập vào thành số nguyên\n",
    "if num % 2 == 0:  # Dùng toán tử so sánh '==' và num đã được chuyển kiểu\n",
    "    print(\"Số chẵn\")\n",
    "else:  # Thêm dấu hai chấm ':'\n",
    "    print(\"Số lẻ\")"
   ]
  },
  {
   "cell_type": "code",
   "execution_count": 12,
   "id": "2473b6dc-1291-49f7-ac89-b72c3cf9b892",
   "metadata": {},
   "outputs": [
    {
     "name": "stdout",
     "output_type": "stream",
     "text": [
      "AI đang học lần 1\n",
      "Huấn luyện xong!\n",
      "AI đang học lần 2\n",
      "Huấn luyện xong!\n",
      "AI đang học lần 3\n",
      "Huấn luyện xong!\n"
     ]
    }
   ],
   "source": [
    "#W1A8\n",
    "for i in range(3):#sẽ tạo ra một vòng lặp chạy đúng 3 lần. Hàm range(3) tạo ra một dãy số là 0, 1, 2. Biến i sẽ lần lượt nhận các giá trị này trong mỗi lần lặp.\n",
    "    print(\"AI đang học lần\", i + 1)#là phần thân của vòng lặp và sẽ được thực thi 3 lần:\n",
    "                                   #Lần 1: i bằng 0. Chương trình in ra \"AI đang học lần\" và giá trị 0 + 1, tức là 1.\n",
    "                                   #Lần 2: i bằng 1. Chương trình in ra \"AI đang học lần\" và giá trị 1 + 1, tức là 2.\n",
    "                                Lệnh print(\"Huấn luyện xong!\") không được thụt vào trong, điều này có nghĩa là nó nằm bên ngoài vòng lặp. Do đó, nó chỉ được thực thi một lần duy nhất, sau khi vòng lặp for đã kết thúc hoàn toàn.   #Lần 3: i bằng 2. Chương trình in ra \"AI đang học lần\" và giá trị 2 + 1, tức là 3.\n",
    "print(\"Huấn luyện xong!\")#Lệnh print(\"Huấn luyện xong!\") không được thụt vào trong, điều này có nghĩa là nó nằm bên ngoài vòng lặp. Do đó, nó chỉ được thực thi một lần duy nhất, sau khi vòng lặp for đã kết thúc hoàn toàn."
   ]
  },
  {
   "cell_type": "code",
   "execution_count": 14,
   "id": "02079ed3-0c2a-4f55-95fa-9f9158c8cb5d",
   "metadata": {},
   "outputs": [
    {
     "name": "stdout",
     "output_type": "stream",
     "text": [
      "Dự đoán con vật: cat\n",
      "Dự đoán con vật: dog\n",
      "Dự đoán con vật: fish\n"
     ]
    }
   ],
   "source": [
    "#W1A9\n",
    "for x in [\"cat\", \"dog\", \"fish\"]:#Lệnh này tạo ra một vòng lặp. Nó sẽ duyệt qua từng phần tử trong danh sách [\"cat\", \"dog\", \"fish\"]. Danh sách này có 3 phần tử.\n",
    "                                #Biến x: Trong mỗi lần lặp, biến x sẽ được gán bằng giá trị của phần tử hiện tại.\n",
    "                                  #Ở lần lặp đầu tiên, x sẽ là \"cat\".\n",
    "                                  #Ở lần lặp thứ hai, x sẽ là \"dog\".\n",
    "                                  #Ở lần lặp thứ ba, x sẽ là \"fish\".\n",
    "    print(\"Dự đoán con vật:\", x)# Lệnh in này nằm bên trong vòng lặp, nên nó sẽ được thực thi 3 lần. Mỗi lần nó sẽ in ra chuỗi \"Dự đoán con vật:\" cùng với giá trị hiện tại của biến x."
   ]
  },
  {
   "cell_type": "code",
   "execution_count": 15,
   "id": "c812d18d-0637-4ed5-9aca-34a80359dd93",
   "metadata": {},
   "outputs": [
    {
     "name": "stdout",
     "output_type": "stream",
     "text": [
      "=== AI Prediction System ===\n",
      "1) Sentiment analysis\n",
      "2) Weather forecast\n",
      "3) Exit\n",
      "Please choose an option:\n"
     ]
    }
   ],
   "source": [
    "#W1A10\n",
    "print(\"=== AI Prediction System ===\")\n",
    "print(\"1) Sentiment analysis\")\n",
    "print(\"2) Weather forecast\")\n",
    "print(\"3) Exit\")\n",
    "print(\"Please choose an option:\")"
   ]
  }
 ],
 "metadata": {
  "kernelspec": {
   "display_name": "Python 3 (ipykernel)",
   "language": "python",
   "name": "python3"
  },
  "language_info": {
   "codemirror_mode": {
    "name": "ipython",
    "version": 3
   },
   "file_extension": ".py",
   "mimetype": "text/x-python",
   "name": "python",
   "nbconvert_exporter": "python",
   "pygments_lexer": "ipython3",
   "version": "3.13.7"
  }
 },
 "nbformat": 4,
 "nbformat_minor": 5
}
