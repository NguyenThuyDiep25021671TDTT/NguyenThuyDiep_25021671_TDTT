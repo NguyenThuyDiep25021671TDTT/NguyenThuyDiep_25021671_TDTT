{
 "cells": [
  {
   "cell_type": "code",
   "execution_count": 1,
   "id": "3706d55e-93c7-48cb-9517-98a7cb3c6db4",
   "metadata": {},
   "outputs": [
    {
     "name": "stdin",
     "output_type": "stream",
     "text": [
      " 2\n"
     ]
    },
    {
     "name": "stdout",
     "output_type": "stream",
     "text": [
      "4\n"
     ]
    }
   ],
   "source": [
    "#Bài 1 \n",
    "n=int(input())\n",
    "a=n*2\n",
    "print(a)"
   ]
  },
  {
   "cell_type": "code",
   "execution_count": 2,
   "id": "c5d14f08-6403-4159-b8ae-f02da557f413",
   "metadata": {},
   "outputs": [
    {
     "name": "stdin",
     "output_type": "stream",
     "text": [
      " 6\n",
      " 5\n"
     ]
    },
    {
     "name": "stdout",
     "output_type": "stream",
     "text": [
      "10.375\n"
     ]
    }
   ],
   "source": [
    "#Bài 2\n",
    "a=float(input())\n",
    "b=float(input())\n",
    "Stron=3.14*(b/2)**2\n",
    "trongcay=a*b-Stron\n",
    "print(trongcay)"
   ]
  },
  {
   "cell_type": "code",
   "execution_count": 6,
   "id": "42daffa3-1f43-45f1-9e8b-6f705cd2eee1",
   "metadata": {},
   "outputs": [
    {
     "name": "stdin",
     "output_type": "stream",
     "text": [
      " a\n"
     ]
    },
    {
     "name": "stdout",
     "output_type": "stream",
     "text": [
      "Chữ in hoa tương ứng: A \n"
     ]
    }
   ],
   "source": [
    "#Bài 3 \n",
    "c=input()\n",
    "if c.isupper():\n",
    "    print(f\"Chữ thường tương ứng: {c.lower()} \")\n",
    "elif c.islower(): \n",
    "    print(f\"Chữ in hoa tương ứng: {c.upper()} \")"
   ]
  },
  {
   "cell_type": "code",
   "execution_count": 7,
   "id": "00419ac6-92e7-4ebb-a5d7-95229a930fc8",
   "metadata": {},
   "outputs": [
    {
     "name": "stdin",
     "output_type": "stream",
     "text": [
      " 2\n"
     ]
    },
    {
     "name": "stdout",
     "output_type": "stream",
     "text": [
      "2 không phải là kí tự alphabet\n"
     ]
    }
   ],
   "source": [
    "#Bài 4\n",
    "c=input()\n",
    "if c.isalpha():\n",
    "    print(f\"{c} là kí tự alphabet\")\n",
    "else:\n",
    "    print(f\"{c} không phải là kí tự alphabet\")"
   ]
  },
  {
   "cell_type": "code",
   "execution_count": 7,
   "id": "c986dcaf-fe39-4597-a1d6-1d9ac6dd75d0",
   "metadata": {},
   "outputs": [
    {
     "name": "stdin",
     "output_type": "stream",
     "text": [
      " 2\n"
     ]
    },
    {
     "name": "stdout",
     "output_type": "stream",
     "text": [
      "2 không phải là kí tự alphabet\n"
     ]
    }
   ],
   "source": [
    "#Bài 4\n",
    "c=input()\n",
    "if c.isalpha():\n",
    "    print(f\"{c} là kí tự alphabet\")\n",
    "else:\n",
    "    print(f\"{c} không phải là kí tự alphabet\")"
   ]
  },
  {
   "cell_type": "code",
   "execution_count": 3,
   "id": "74e788c7-bf73-423c-970f-79b5e104fb55",
   "metadata": {},
   "outputs": [
    {
     "name": "stdin",
     "output_type": "stream",
     "text": [
      "Nhập chữ cái in hoa: A\n"
     ]
    },
    {
     "name": "stdout",
     "output_type": "stream",
     "text": [
      "Chữ cái thường liền trước chữ a thường:z\n"
     ]
    }
   ],
   "source": [
    "#Bài 5\n",
    "a=input(\"Nhập chữ cái in hoa:\")\n",
    "if a=='A':\n",
    "    print(\"Chữ cái thường liền trước chữ a thường:z\")\n"
   ]
  },
  {
   "cell_type": "code",
   "execution_count": 8,
   "id": "f111900b-5838-4aa4-b6c8-8435fa68996e",
   "metadata": {},
   "outputs": [
    {
     "name": "stdin",
     "output_type": "stream",
     "text": [
      " 5\n",
      " 4\n",
      " 6\n"
     ]
    },
    {
     "name": "stdout",
     "output_type": "stream",
     "text": [
      "Diện tích tam giác S=9.9\n"
     ]
    }
   ],
   "source": [
    "#Bài 6\n",
    "a=float(input())\n",
    "b=float(input())\n",
    "c=float(input())\n",
    "p=(a+b+c)/2\n",
    "S=(p*(p-a)*(p-b)*(p-c))**0.5\n",
    "if a+b>c:\n",
    "    print(f\"Diện tích tam giác S={S:.1f}\")\n",
    "elif a+b<c:\n",
    "    print(\"Không phải là tam giác\")"
   ]
  },
  {
   "cell_type": "code",
   "execution_count": 1,
   "id": "896f6a70-fe2a-400a-8904-7a0d078702eb",
   "metadata": {},
   "outputs": [
    {
     "name": "stdin",
     "output_type": "stream",
     "text": [
      "Nhập chuỗi ký tự thường có độ dài >=:20 qwertyuiopasdfghjklzxcvbnm\n"
     ]
    },
    {
     "name": "stdout",
     "output_type": "stream",
     "text": [
      "Ký tự thứ năm của chuỗi:t\n",
      "Ký tự thứ chín của chuỗi:o\n"
     ]
    }
   ],
   "source": [
    "#Bài 7\n",
    "a=input(\"Nhập chuỗi ký tự thường có độ dài >=:20\")\n",
    "print(f\"Ký tự thứ năm của chuỗi:{a[4]}\")\n",
    "print(f\"Ký tự thứ chín của chuỗi:{a[8]}\")"
   ]
  },
  {
   "cell_type": "code",
   "execution_count": 13,
   "id": "673a53c9-ddee-45af-aa38-88b9b4fbeb63",
   "metadata": {},
   "outputs": [
    {
     "name": "stdin",
     "output_type": "stream",
     "text": [
      "Tên chủ hộ: su su\n",
      "Chỉ số tháng trước: 2098\n",
      "Chỉ số tháng này: 2999\n"
     ]
    },
    {
     "name": "stdout",
     "output_type": "stream",
     "text": [
      "Họ và tên:su su\n",
      "Tiền phải trả là:2752850\n"
     ]
    }
   ],
   "source": [
    "#Bài 8\n",
    "a=input(\"Tên chủ hộ:\")\n",
    "b=int(input(\"Chỉ số tháng trước:\"))\n",
    "c=int(input(\"Chỉ số tháng này:\"))\n",
    "if 50>=c-b>=0:\n",
    "    print(f\"Họ và tên:{a}\\nTiền phải trả là:{((c-b)*1984)*0.08}\")\n",
    "elif 100>=c-b>=51:\n",
    "    print(f\"Họ và tên:{a}\\nTiền phải trả là:{(50*1984+(c-b-50)*2050)*0.08}\")\n",
    "elif 200>=c-b>=101:\n",
    "    print(f\"Họ và tên:{a}\\nTiền phải trả là:{(50*1984+50*2050+(c-b-100)*2380)*0.08}\")\n",
    "elif 300>=c-b>=201:\n",
    "    print(f\"Họ và tên:{a}\\n Tiền phải trả là:{(50*1984+50*2050+100*2380+(c-b-200)*2998)*0.08}\")\n",
    "elif 400>=c-b>=301:\n",
    "    print(f\"Họ và tên:{a}\\nTiền phải trả là:{(50*1984+50*2050+100*2380+100*2998+(c-b-300)*3350)*0.08}\")\n",
    "elif c-b>=401:\n",
    "    print(f\"Họ và tên:{a}\\nTiền phải trả là:{(50*1984+50*2050+100*2380+100*2998+100*3350+(c-b-400)*3350)*0.08}\")"
   ]
  },
  {
   "cell_type": "code",
   "execution_count": 14,
   "id": "29cfc2ab-0136-4a1f-b6d9-56d867ec9055",
   "metadata": {},
   "outputs": [
    {
     "name": "stdin",
     "output_type": "stream",
     "text": [
      " 3\n"
     ]
    },
    {
     "name": "stdout",
     "output_type": "stream",
     "text": [
      "3 là số lẻ\n"
     ]
    }
   ],
   "source": [
    "#bài khác 1\n",
    "a=int(input())\n",
    "if a % 2 ==0:\n",
    "    print(f\"{a} là số chẵn\")\n",
    "else:\n",
    "    print(f\"{a} là số lẻ\")"
   ]
  },
  {
   "cell_type": "code",
   "execution_count": 15,
   "id": "ca8eda98-80c6-4d95-b05c-611e53904fc2",
   "metadata": {},
   "outputs": [
    {
     "name": "stdin",
     "output_type": "stream",
     "text": [
      " 23\n"
     ]
    },
    {
     "name": "stdout",
     "output_type": "stream",
     "text": [
      "False\n"
     ]
    }
   ],
   "source": [
    "#bài khác 2\n",
    "a=int(input())\n",
    "if a%10==5:\n",
    "    print(\"True\")\n",
    "else:\n",
    "    print(\"False\")"
   ]
  },
  {
   "cell_type": "code",
   "execution_count": 16,
   "id": "8f2cf056-dc28-47aa-a862-576558b17c2f",
   "metadata": {},
   "outputs": [
    {
     "name": "stdin",
     "output_type": "stream",
     "text": [
      " 15\n"
     ]
    },
    {
     "name": "stdout",
     "output_type": "stream",
     "text": [
      "True\n"
     ]
    }
   ],
   "source": [
    "#bài khác 3\n",
    "a=int(input())\n",
    "if a%3==0:\n",
    "    print(\"True\")\n",
    "elif a%5==0:\n",
    "    print(\"True\")\n",
    "else:\n",
    "    print(\"False\")"
   ]
  },
  {
   "cell_type": "code",
   "execution_count": 18,
   "id": "71342f80-21b6-4157-b715-d2c4628ccd39",
   "metadata": {},
   "outputs": [
    {
     "name": "stdin",
     "output_type": "stream",
     "text": [
      "Năm sinh: 2007\n",
      "Năm hiện tại: 2025\n"
     ]
    },
    {
     "name": "stdout",
     "output_type": "stream",
     "text": [
      "Đủ điều kiện bầu cử\n"
     ]
    }
   ],
   "source": [
    "#bài khác 4\n",
    "a=int(input(\"Năm sinh:\"))\n",
    "b=int(input(\"Năm hiện tại:\"))\n",
    "if b-a>=18:\n",
    "    print(\"Đủ điều kiện bầu cử\")\n",
    "else:\n",
    "    print(\"Không đủ điều kiện bầu cử\")"
   ]
  },
  {
   "cell_type": "code",
   "execution_count": 19,
   "id": "71e893b4-f926-4709-bd82-a022252c562f",
   "metadata": {},
   "outputs": [
    {
     "name": "stdin",
     "output_type": "stream",
     "text": [
      " 3 3\n"
     ]
    },
    {
     "name": "stdout",
     "output_type": "stream",
     "text": [
      "Hai số bằng nhau\n"
     ]
    }
   ],
   "source": [
    "#bài khác 5\n",
    "a,b=map(int,input().split())\n",
    "if a>b:\n",
    "    print(f\"Số lớn hơn {a}\")\n",
    "elif b>a:\n",
    "    print(f\"Số lớn hơn {b}\")\n",
    "else:\n",
    "    print(\"Hai số bằng nhau\")\n"
   ]
  },
  {
   "cell_type": "code",
   "execution_count": 20,
   "id": "e94b1f03-c0e0-4342-8a92-bd0927bff070",
   "metadata": {},
   "outputs": [
    {
     "name": "stdin",
     "output_type": "stream",
     "text": [
      " d\n"
     ]
    },
    {
     "name": "stdout",
     "output_type": "stream",
     "text": [
      "Chữ cái\n"
     ]
    }
   ],
   "source": [
    "#bài khác 6\n",
    "a=input()\n",
    "if a.isalpha():\n",
    "    print(\"Chữ cái\")\n",
    "elif a.isdigit():\n",
    "    print(\"Số\")"
   ]
  },
  {
   "cell_type": "code",
   "execution_count": 22,
   "id": "14b76086-2226-4105-9f54-e7bbbc62efee",
   "metadata": {},
   "outputs": [
    {
     "name": "stdin",
     "output_type": "stream",
     "text": [
      "Điểm: 9.0\n"
     ]
    },
    {
     "name": "stdout",
     "output_type": "stream",
     "text": [
      "Học lực loại giỏi\n"
     ]
    }
   ],
   "source": [
    "#bài khác 7\n",
    "a=float(input(\"Điểm:\"))\n",
    "if a>=8:\n",
    "    print(\"Học lực loại giỏi\")\n",
    "elif a>=6.5:\n",
    "    print(\"Học lực loại khá\")\n",
    "elif a>=5:\n",
    "    print(\"Học lực loại trung bình\")\n",
    "else:\n",
    "    print(\"Học lực loại yếu\")"
   ]
  },
  {
   "cell_type": "code",
   "execution_count": 24,
   "id": "f76958d6-1525-4201-be6f-0c908e254e4c",
   "metadata": {},
   "outputs": [
    {
     "name": "stdin",
     "output_type": "stream",
     "text": [
      "Năm: 2308\n"
     ]
    },
    {
     "name": "stdout",
     "output_type": "stream",
     "text": [
      "Năm nhuận\n"
     ]
    }
   ],
   "source": [
    "#bài khác 8\n",
    "a=int(input(\"Năm:\"))\n",
    "if (a%400==0) or (a%4==0 and a%100!=0):\n",
    "    print(\"Năm nhuận\")\n",
    "else:\n",
    "    print(\"Không phải năm nhuận\")"
   ]
  },
  {
   "cell_type": "code",
   "execution_count": 29,
   "id": "11f911e8-682c-4cc0-a634-fd7245338f12",
   "metadata": {},
   "outputs": [
    {
     "name": "stdin",
     "output_type": "stream",
     "text": [
      "Nhập một số từ 0 đến 9: 7\n"
     ]
    },
    {
     "name": "stdout",
     "output_type": "stream",
     "text": [
      "Bảy\n"
     ]
    }
   ],
   "source": [
    "#bài khác 9\n",
    "a=int(input(\"Nhập một số từ 0 đến 9:\"))\n",
    "match a:\n",
    "    case 0:\n",
    "        print(\"Không\")\n",
    "    case 1:\n",
    "        print(\"Một\")\n",
    "    case 2:\n",
    "        print(\"Hai\")\n",
    "    case 3:\n",
    "        print(\"Ba\")\n",
    "    case 4:\n",
    "        print(\"Bốn\")\n",
    "    case 5:\n",
    "        print(\"Năm\")\n",
    "    case 6:\n",
    "        print(\"Sáu\")\n",
    "    case 7:\n",
    "        print(\"Bảy\")\n",
    "    case 8:\n",
    "        print(\"Tám\")\n",
    "    case 9:\n",
    "        print(\"Chín\")"
   ]
  },
  {
   "cell_type": "code",
   "execution_count": 27,
   "id": "5175bfe3-0d7e-458a-9ae0-170b8ec4cc52",
   "metadata": {},
   "outputs": [
    {
     "name": "stdin",
     "output_type": "stream",
     "text": [
      "Điểm 8.6\n"
     ]
    },
    {
     "name": "stdout",
     "output_type": "stream",
     "text": [
      "Qua môn\n"
     ]
    }
   ],
   "source": [
    "#bài khác 10\n",
    "a=float(input(\"Điểm\"))\n",
    "if a>=4:\n",
    "    print(\"Qua môn\")\n",
    "else:\n",
    "    print(\"Học lại\")\n"
   ]
  },
  {
   "cell_type": "code",
   "execution_count": 26,
   "id": "83362d8e-c887-4643-a8b0-f0b43003ce92",
   "metadata": {},
   "outputs": [
    {
     "name": "stdin",
     "output_type": "stream",
     "text": [
      "Năm sinh: 2007\n"
     ]
    },
    {
     "name": "stdout",
     "output_type": "stream",
     "text": [
      "Đủ 18 tuổi\n"
     ]
    }
   ],
   "source": [
    "#bài khác 11\n",
    "a=int(input(\"Năm sinh:\"))\n",
    "if 2025-a>=18:\n",
    "    print(\"Đủ 18 tuổi\")\n",
    "else:\n",
    "    print(\"Chưa đủ 18 tuổi\")"
   ]
  },
  {
   "cell_type": "code",
   "execution_count": null,
   "id": "e184ee26-04f0-45f7-afdf-54b565079933",
   "metadata": {},
   "outputs": [],
   "source": []
  }
 ],
 "metadata": {
  "kernelspec": {
   "display_name": "Python 3 (ipykernel)",
   "language": "python",
   "name": "python3"
  },
  "language_info": {
   "codemirror_mode": {
    "name": "ipython",
    "version": 3
   },
   "file_extension": ".py",
   "mimetype": "text/x-python",
   "name": "python",
   "nbconvert_exporter": "python",
   "pygments_lexer": "ipython3",
   "version": "3.13.7"
  }
 },
 "nbformat": 4,
 "nbformat_minor": 5
}
