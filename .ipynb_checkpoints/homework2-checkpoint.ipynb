{
 "cells": [
  {
   "cell_type": "code",
   "execution_count": 4,
   "id": "c16d0182-cde7-47e2-83bd-d2d86237cb98",
   "metadata": {},
   "outputs": [
    {
     "name": "stdin",
     "output_type": "stream",
     "text": [
      " 4\n",
      " 3\n"
     ]
    },
    {
     "name": "stdout",
     "output_type": "stream",
     "text": [
      "Chu vi:: 14.0\n",
      "Diện tích: 12.0\n"
     ]
    }
   ],
   "source": [
    "#Bài1.1\n",
    "dai=float(input())\n",
    "rong=float(input())\n",
    "print(\"Chu vi::\",(dai+rong)*2)\n",
    "print(\"Diện tích:\",dai*rong)"
   ]
  },
  {
   "cell_type": "code",
   "execution_count": 12,
   "id": "78c317b5-27d7-4caa-9e27-6203b06ff2e8",
   "metadata": {},
   "outputs": [
    {
     "name": "stdin",
     "output_type": "stream",
     "text": [
      " 4 3\n"
     ]
    },
    {
     "name": "stdout",
     "output_type": "stream",
     "text": [
      "Chu vi:: 14.0\n",
      "Diện tích: 12.0\n"
     ]
    }
   ],
   "source": [
    "#Bài1.2\n",
    "dai,rong=map(float,input().split())\n",
    "print(\"Chu vi::\",(dai+rong)*2)\n",
    "print(\"Diện tích:\",dai*rong)"
   ]
  },
  {
   "cell_type": "code",
   "execution_count": 11,
   "id": "ef3a14fc-fdbb-494a-8731-394b44f6a163",
   "metadata": {},
   "outputs": [
    {
     "name": "stdin",
     "output_type": "stream",
     "text": [
      " 4 3\n"
     ]
    },
    {
     "name": "stdout",
     "output_type": "stream",
     "text": [
      "Chu vi: 14.0 Diện tích: 12.0\n"
     ]
    }
   ],
   "source": [
    "#Bài1.3\n",
    "dai,rong=map(float,input().split())\n",
    "print(\"Chu vi:\",(dai+rong)*2,\"Diện tích:\",dai*rong)"
   ]
  },
  {
   "cell_type": "code",
   "execution_count": 13,
   "id": "da8fa176-df5d-4c06-8713-6130e43aeb7d",
   "metadata": {},
   "outputs": [
    {
     "name": "stdin",
     "output_type": "stream",
     "text": [
      " 3\n"
     ]
    },
    {
     "name": "stdout",
     "output_type": "stream",
     "text": [
      "Chu vi:: 18.84\n",
      "Diện tích: 28.259999999999998\n"
     ]
    }
   ],
   "source": [
    "#Bài 2.1\n",
    "r=float(input())\n",
    "print(\"Chu vi::\", 2*3.14*r)\n",
    "print(\"Diện tích:\", 3.14*r*r)"
   ]
  },
  {
   "cell_type": "code",
   "execution_count": 19,
   "id": "1cf1d655-d0aa-4cfd-9969-84ee5e7f5837",
   "metadata": {},
   "outputs": [
    {
     "name": "stdin",
     "output_type": "stream",
     "text": [
      " 3\n"
     ]
    },
    {
     "name": "stdout",
     "output_type": "stream",
     "text": [
      "Chu vi:18.84\n",
      "Diện tích:28.259999999999998\n"
     ]
    }
   ],
   "source": [
    "#Bài 2.2\n",
    "r=float(input())\n",
    "print(f\"Chu vi:{2*3.14*r}\\nDiện tích:{3.14*r*r}\")"
   ]
  },
  {
   "cell_type": "code",
   "execution_count": 20,
   "id": "8ef85c00-bd59-4dc3-b85f-70e8bf046d16",
   "metadata": {},
   "outputs": [
    {
     "name": "stdin",
     "output_type": "stream",
     "text": [
      " 3\n"
     ]
    },
    {
     "name": "stdout",
     "output_type": "stream",
     "text": [
      "Chu vi: 18.84 Diện tích: 28.259999999999998\n"
     ]
    }
   ],
   "source": [
    "#Bài 2.3\n",
    "r=float(input())\n",
    "print(\"Chu vi:\",2*3.14*r,\"Diện tích:\",3.14*r*r)"
   ]
  },
  {
   "cell_type": "code",
   "execution_count": null,
   "id": "d1871973-22de-40e2-b139-3286afa9a762",
   "metadata": {},
   "outputs": [],
   "source": [
    "#Bài 3.1\n",
    "a=float(input())\n",
    "b=float(input())\n",
    "c=float(input())\n",
    "if a+b>c:\n",
    "   elif \n"
   ]
  },
  {
   "cell_type": "code",
   "execution_count": 21,
   "id": "607a07d7-678b-4865-b8d5-0818cebdbf99",
   "metadata": {},
   "outputs": [
    {
     "name": "stdin",
     "output_type": "stream",
     "text": [
      " 3\n",
      " 5\n"
     ]
    },
    {
     "name": "stdout",
     "output_type": "stream",
     "text": [
      "Giải phương trình: 3.0x + 5.0 = 0\n"
     ]
    }
   ],
   "source": [
    "#Bài 4\n",
    "a=float(input())\n",
    "b=float(input())\n"
   ]
  },
  {
   "cell_type": "code",
   "execution_count": null,
   "id": "2288c885-37bc-484f-bfdf-a94ffb146890",
   "metadata": {},
   "outputs": [],
   "source": [
    "#Bài 10\n"
   ]
  },
  {
   "cell_type": "code",
   "execution_count": 23,
   "id": "cd20364e-131d-4424-9ade-b076ef077600",
   "metadata": {},
   "outputs": [
    {
     "name": "stdin",
     "output_type": "stream",
     "text": [
      " 2\n",
      " 3\n"
     ]
    },
    {
     "name": "stdout",
     "output_type": "stream",
     "text": [
      "x mũ y =8.0\n"
     ]
    }
   ],
   "source": [
    "#Bài 11.1\n",
    "x=float(input())\n",
    "y=float(input())\n",
    "print(f\"x mũ y ={x**y}\")"
   ]
  },
  {
   "cell_type": "code",
   "execution_count": 24,
   "id": "c2010ef2-494e-4c0e-be5b-55d5284ecbbc",
   "metadata": {},
   "outputs": [
    {
     "name": "stdin",
     "output_type": "stream",
     "text": [
      " 2 3\n"
     ]
    },
    {
     "name": "stdout",
     "output_type": "stream",
     "text": [
      "x mũ y =8.0\n"
     ]
    }
   ],
   "source": [
    "#Bài 11.2\n",
    "x,y=map(float,input().split())\n",
    "print(f\"x mũ y ={x**y}\")"
   ]
  },
  {
   "cell_type": "code",
   "execution_count": null,
   "id": "1f40bbf9-bc62-419e-904b-706dc014f764",
   "metadata": {},
   "outputs": [],
   "source": []
  }
 ],
 "metadata": {
  "kernelspec": {
   "display_name": "Python 3 (ipykernel)",
   "language": "python",
   "name": "python3"
  },
  "language_info": {
   "codemirror_mode": {
    "name": "ipython",
    "version": 3
   },
   "file_extension": ".py",
   "mimetype": "text/x-python",
   "name": "python",
   "nbconvert_exporter": "python",
   "pygments_lexer": "ipython3",
   "version": "3.13.7"
  }
 },
 "nbformat": 4,
 "nbformat_minor": 5
}
