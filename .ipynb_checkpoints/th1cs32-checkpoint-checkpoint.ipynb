{
 "cells": [
  {
   "cell_type": "code",
   "execution_count": 2,
   "id": "9b2337da-fb54-41f5-95a3-246f8d9769d8",
   "metadata": {
    "scrolled": true
   },
   "outputs": [
    {
     "name": "stdout",
     "output_type": "stream",
     "text": [
      "Hello World!\n"
     ]
    }
   ],
   "source": [
    "#W2A1\n",
    "print(\"Hello World!\")"
   ]
  },
  {
   "cell_type": "code",
   "execution_count": 3,
   "id": "849159ca-ac32-4b64-aa83-ea454ba081e3",
   "metadata": {},
   "outputs": [
    {
     "name": "stdin",
     "output_type": "stream",
     "text": [
      " Diệp\n"
     ]
    },
    {
     "name": "stdout",
     "output_type": "stream",
     "text": [
      "Xin chào Diệp\n"
     ]
    }
   ],
   "source": [
    "#W2A2\n",
    "ten=input()\n",
    "print(\"Xin chào\", ten)\n"
   ]
  },
  {
   "cell_type": "code",
   "execution_count": 4,
   "id": "f66ea9d2-18be-47bc-9582-5b22669800bc",
   "metadata": {},
   "outputs": [
    {
     "name": "stdin",
     "output_type": "stream",
     "text": [
      " 4\n",
      " 5\n"
     ]
    },
    {
     "name": "stdout",
     "output_type": "stream",
     "text": [
      "4+5 =9\n",
      "4-5 =-1\n",
      "4*5 =20\n",
      "4/5 =0.8\n",
      "4//5 =0\n",
      "4%5 =4\n"
     ]
    }
   ],
   "source": [
    "#W2A3\n",
    "a = int(input())\n",
    "b = int(input())\n",
    "# a,b=map(int,input().split()) nhap 2 so tren mot dong\n",
    "print(f\"{a}+{b} ={a+b}\")\n",
    "print(f\"{a}-{b} ={a-b}\")\n",
    "print(f\"{a}*{b} ={a*b}\")\n",
    "print(f\"{a}/{b} ={a/b}\")\n",
    "print(f\"{a}//{b} ={a//b}\")\n",
    "print(f\"{a}%{b} ={a%b}\")"
   ]
  },
  {
   "cell_type": "code",
   "execution_count": 5,
   "id": "ed4f4457-b3d2-4e31-90c8-57da475cda71",
   "metadata": {},
   "outputs": [
    {
     "name": "stdin",
     "output_type": "stream",
     "text": [
      " 10 9 8 7 6 5\n"
     ]
    },
    {
     "name": "stdout",
     "output_type": "stream",
     "text": [
      "10 9 8 7 6 5\n",
      "6.80\n"
     ]
    }
   ],
   "source": [
    "#W2A4\n",
    "line = input()\n",
    "print(line)\n",
    "a1, b1, c1, a2, b2, a3 = map(int, line.split())\n",
    "TB = (a1+ b1+ c1 + (a2 + b2)*2 + (a3)*3)/10\n",
    "print(f\"{TB:.2f}\")"
   ]
  },
  {
   "cell_type": "code",
   "execution_count": 6,
   "id": "2523db19-c3d4-4240-9c93-6dcfe4276fdc",
   "metadata": {},
   "outputs": [
    {
     "name": "stdin",
     "output_type": "stream",
     "text": [
      " 2 3\n"
     ]
    },
    {
     "name": "stdout",
     "output_type": "stream",
     "text": [
      "8\n"
     ]
    }
   ],
   "source": [
    "#W2A5\n",
    "a, b = map(int,input().split())\n",
    "c=a**b\n",
    "print(c)"
   ]
  },
  {
   "cell_type": "code",
   "execution_count": 7,
   "id": "8f5d0a40-20a1-430c-9022-8b77381ff67b",
   "metadata": {},
   "outputs": [
    {
     "name": "stdin",
     "output_type": "stream",
     "text": [
      " a\n"
     ]
    },
    {
     "name": "stdout",
     "output_type": "stream",
     "text": [
      "97\n",
      "A Ϩ\n"
     ]
    }
   ],
   "source": [
    "#W2A6\n",
    "char = input()\n",
    "print(ord(char))\n",
    "hoa = ord(char) - 32\n",
    "print(chr(hoa), chr(1000))"
   ]
  },
  {
   "cell_type": "code",
   "execution_count": 8,
   "id": "3d92f73d-5e8b-47f4-b289-b31aab4b917f",
   "metadata": {},
   "outputs": [
    {
     "name": "stdout",
     "output_type": "stream",
     "text": [
      "512\n",
      "512\n"
     ]
    }
   ],
   "source": [
    "#W2A7\n",
    "A = ((13**2 * 3) + 5)\n",
    "B = 13**2*3 + 5\n",
    "print(A)\n",
    "print(B)"
   ]
  },
  {
   "cell_type": "code",
   "execution_count": 9,
   "id": "8c4d1306-1289-4de9-904e-e3b352662462",
   "metadata": {},
   "outputs": [
    {
     "name": "stdin",
     "output_type": "stream",
     "text": [
      " 45\n"
     ]
    },
    {
     "name": "stdout",
     "output_type": "stream",
     "text": [
      "45.00\n"
     ]
    }
   ],
   "source": [
    "#W2A8\n",
    "C=float(input())\n",
    "F=9/5*C + 32\n",
    "print(f\"{C:.2f}\")"
   ]
  },
  {
   "cell_type": "code",
   "execution_count": 10,
   "id": "f4a6e954-54d2-467b-904c-c352f962bd8f",
   "metadata": {},
   "outputs": [
    {
     "name": "stdin",
     "output_type": "stream",
     "text": [
      " 6\n"
     ]
    },
    {
     "name": "stdout",
     "output_type": "stream",
     "text": [
      "8.4\n"
     ]
    }
   ],
   "source": [
    "#W2A9\n",
    "a=float(input())\n",
    "b=a+a*4/10\n",
    "print(b)"
   ]
  },
  {
   "cell_type": "code",
   "execution_count": 11,
   "id": "53d95186-d18d-46eb-9b28-3d63cc5e05ff",
   "metadata": {},
   "outputs": [
    {
     "name": "stdin",
     "output_type": "stream",
     "text": [
      " An Anh Mai\n"
     ]
    },
    {
     "name": "stdout",
     "output_type": "stream",
     "text": [
      "Hello Mai, Anh and An\n"
     ]
    }
   ],
   "source": [
    "#W2A10\n",
    "a, b, c = map(str, input().split())\n",
    "print(\"Hello \", c, \", \", b, \" and \", a, sep = '')"
   ]
  },
  {
   "cell_type": "code",
   "execution_count": 12,
   "id": "9285e226-c1be-4f70-842d-f21daa037240",
   "metadata": {},
   "outputs": [
    {
     "name": "stdin",
     "output_type": "stream",
     "text": [
      "Giờ:  2\n",
      "Phút:  3\n"
     ]
    },
    {
     "name": "stdout",
     "output_type": "stream",
     "text": [
      "7380\n"
     ]
    }
   ],
   "source": [
    "#W2A11\n",
    "a=int(input(\"Giờ: \"))\n",
    "b=int(input(\"Phút: \"))\n",
    "c= (a * 3600) + (b * 60)\n",
    "print(c)"
   ]
  },
  {
   "cell_type": "code",
   "execution_count": 13,
   "id": "f50d8a8d-fb87-4c8f-8a12-2ae05d9a6609",
   "metadata": {},
   "outputs": [
    {
     "name": "stdin",
     "output_type": "stream",
     "text": [
      " 4\n"
     ]
    },
    {
     "name": "stdout",
     "output_type": "stream",
     "text": [
      "Số miếng:  864\n"
     ]
    }
   ],
   "source": [
    "#W2A12\n",
    "n=int(input())\n",
    "a=n*6*6*6\n",
    "print(\"Số miếng: \", a)"
   ]
  },
  {
   "cell_type": "code",
   "execution_count": 14,
   "id": "01a4eeaf",
   "metadata": {},
   "outputs": [
    {
     "name": "stdin",
     "output_type": "stream",
     "text": [
      " 2 5\n"
     ]
    },
    {
     "name": "stdout",
     "output_type": "stream",
     "text": [
      "Tích a và b  10\n"
     ]
    }
   ],
   "source": [
    "#W2A13\n",
    "a, b = map(int, input().split())\n",
    "c= a*b\n",
    "print(\"Tích a và b \",c)"
   ]
  },
  {
   "cell_type": "code",
   "execution_count": 1,
   "id": "c6f4416c-5f97-496d-b1bf-c64c17938b31",
   "metadata": {},
   "outputs": [
    {
     "name": "stdin",
     "output_type": "stream",
     "text": [
      "a= 3\n",
      "b= 4\n"
     ]
    },
    {
     "name": "stdout",
     "output_type": "stream",
     "text": [
      "Hoán đổi giá trị giữa hai số: a=4.0, b=3.0\n"
     ]
    }
   ],
   "source": [
    "#W2A14\n",
    "a=float(input(\"a=\"))\n",
    "b=float(input(\"b=\"))\n",
    "print(f\"Hoán đổi giá trị giữa hai số: a={b}, b={a}\")"
   ]
  },
  {
   "cell_type": "code",
   "execution_count": 15,
   "id": "54dcd1c4",
   "metadata": {},
   "outputs": [
    {
     "name": "stdin",
     "output_type": "stream",
     "text": [
      " 7\n"
     ]
    },
    {
     "name": "stdout",
     "output_type": "stream",
     "text": [
      "Sô sao:  253\n"
     ]
    }
   ],
   "source": [
    "#W2A15\n",
    "n=int(input())\n",
    "a=n*6*(n-1)+1\n",
    "print(\"Số sao: \",a)"
   ]
  },
  {
   "cell_type": "code",
   "execution_count": 16,
   "id": "0ea392ed",
   "metadata": {},
   "outputs": [
    {
     "name": "stdout",
     "output_type": "stream",
     "text": [
      "Spring\n",
      "Summer\n",
      "Autumn\n",
      "Winter\n"
     ]
    }
   ],
   "source": [
    "#W2A16\n",
    "print(\"Spring\\nSummer\\nAutumn\\nWinter\")"
   ]
  },
  {
   "cell_type": "code",
   "execution_count": 17,
   "id": "870d1b9d",
   "metadata": {},
   "outputs": [
    {
     "name": "stdout",
     "output_type": "stream",
     "text": [
      "  *\n",
      " ***\n",
      "*****\n"
     ]
    }
   ],
   "source": [
    "#W2A17\n",
    "print('  *')\n",
    "print(\" ***\")\n",
    "print(\"*****\")"
   ]
  },
  {
   "cell_type": "code",
   "execution_count": 18,
   "id": "cfdc3bd9",
   "metadata": {},
   "outputs": [
    {
     "name": "stdout",
     "output_type": "stream",
     "text": [
      "### # #   ### ###\n",
      " #  #  #   #   #\n",
      " #  #   #  #   #\n",
      " #  #  #   #   #\n",
      " #  # #    #   #\n"
     ]
    }
   ],
   "source": [
    "#W2A18\n",
    "print(\"### # #   ### ###\")\n",
    "print(\" #  #  #   #   #\")\n",
    "print(\" #  #   #  #   #\")\n",
    "print(\" #  #  #   #   #\")\n",
    "print(\" #  # #    #   #\")"
   ]
  },
  {
   "cell_type": "code",
   "execution_count": 19,
   "id": "163640ac",
   "metadata": {},
   "outputs": [
    {
     "name": "stdout",
     "output_type": "stream",
     "text": [
      "Monday\n",
      "Tuesday\n",
      "Wednesday\n",
      "Thursday\n",
      "Friday\n",
      "Saturday\n",
      "Sunday\n"
     ]
    }
   ],
   "source": [
    "#W2A19\n",
    "print(\"Monday\\nTuesday\\nWednesday\\nThursday\\nFriday\\nSaturday\\nSunday\")\n"
   ]
  },
  {
   "cell_type": "code",
   "execution_count": 20,
   "id": "9ee5a1c3",
   "metadata": {},
   "outputs": [
    {
     "name": "stdout",
     "output_type": "stream",
     "text": [
      "January\n",
      "February\n",
      "March\n",
      "April\n",
      "May\n",
      "June\n",
      "July\n",
      "August\n",
      "September\\nOctober\n",
      "November\n",
      "December\n"
     ]
    }
   ],
   "source": [
    "#W2A20\n",
    "print(\"January\\nFebruary\\nMarch\\nApril\\nMay\\nJune\\nJuly\\nAugust\\nSeptember\\\\nOctober\\nNovember\\nDecember\")"
   ]
  },
  {
   "cell_type": "code",
   "execution_count": 21,
   "id": "e038cac3",
   "metadata": {},
   "outputs": [
    {
     "name": "stdout",
     "output_type": "stream",
     "text": [
      "Hello, world\n",
      "Hello, world\n",
      "Hello, world\n",
      "Hello, world\n",
      "Hello, world\n",
      "Hello, world\n",
      "Hello, world\n",
      "Hello, world\n",
      "Hello, world\n",
      "Hello, world\n",
      "\n"
     ]
    }
   ],
   "source": [
    "#W2A21\n",
    "print(\"Hello, world\\n\" * 10)"
   ]
  },
  {
   "cell_type": "code",
   "execution_count": null,
   "id": "36b09644-1891-4586-8ed7-1b1c1b7f34cc",
   "metadata": {},
   "outputs": [],
   "source": []
  }
 ],
 "metadata": {
  "kernelspec": {
   "display_name": "Python 3 (ipykernel)",
   "language": "python",
   "name": "python3"
  },
  "language_info": {
   "codemirror_mode": {
    "name": "ipython",
    "version": 3
   },
   "file_extension": ".py",
   "mimetype": "text/x-python",
   "name": "python",
   "nbconvert_exporter": "python",
   "pygments_lexer": "ipython3",
   "version": "3.13.7"
  }
 },
 "nbformat": 4,
 "nbformat_minor": 5
}
