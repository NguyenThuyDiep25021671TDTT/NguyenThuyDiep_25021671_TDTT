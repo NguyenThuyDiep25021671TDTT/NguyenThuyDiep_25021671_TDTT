{
 "cells": [
  {
   "cell_type": "code",
   "execution_count": 4,
   "id": "c16d0182-cde7-47e2-83bd-d2d86237cb98",
   "metadata": {},
   "outputs": [
    {
     "name": "stdin",
     "output_type": "stream",
     "text": [
      " 4\n",
      " 3\n"
     ]
    },
    {
     "name": "stdout",
     "output_type": "stream",
     "text": [
      "Chu vi:: 14.0\n",
      "Diện tích: 12.0\n"
     ]
    }
   ],
   "source": [
    "#Bài1.1\n",
    "dai=float(input())\n",
    "rong=float(input())\n",
    "print(\"Chu vi::\",(dai+rong)*2)\n",
    "print(\"Diện tích:\",dai*rong)"
   ]
  },
  {
   "cell_type": "code",
   "execution_count": 12,
   "id": "78c317b5-27d7-4caa-9e27-6203b06ff2e8",
   "metadata": {},
   "outputs": [
    {
     "name": "stdin",
     "output_type": "stream",
     "text": [
      " 4 3\n"
     ]
    },
    {
     "name": "stdout",
     "output_type": "stream",
     "text": [
      "Chu vi:: 14.0\n",
      "Diện tích: 12.0\n"
     ]
    }
   ],
   "source": [
    "#Bài1.2\n",
    "dai,rong=map(float,input().split())\n",
    "print(\"Chu vi::\",(dai+rong)*2)\n",
    "print(\"Diện tích:\",dai*rong)"
   ]
  },
  {
   "cell_type": "code",
   "execution_count": 11,
   "id": "ef3a14fc-fdbb-494a-8731-394b44f6a163",
   "metadata": {},
   "outputs": [
    {
     "name": "stdin",
     "output_type": "stream",
     "text": [
      " 4 3\n"
     ]
    },
    {
     "name": "stdout",
     "output_type": "stream",
     "text": [
      "Chu vi: 14.0 Diện tích: 12.0\n"
     ]
    }
   ],
   "source": [
    "#Bài1.3\n",
    "dai,rong=map(float,input().split())\n",
    "print(\"Chu vi:\",(dai+rong)*2,\"Diện tích:\",dai*rong)"
   ]
  },
  {
   "cell_type": "code",
   "execution_count": 13,
   "id": "da8fa176-df5d-4c06-8713-6130e43aeb7d",
   "metadata": {},
   "outputs": [
    {
     "name": "stdin",
     "output_type": "stream",
     "text": [
      " 3\n"
     ]
    },
    {
     "name": "stdout",
     "output_type": "stream",
     "text": [
      "Chu vi:: 18.84\n",
      "Diện tích: 28.259999999999998\n"
     ]
    }
   ],
   "source": [
    "#Bài 2.1\n",
    "r=float(input())\n",
    "print(\"Chu vi::\", 2*3.14*r)\n",
    "print(\"Diện tích:\", 3.14*r*r)"
   ]
  },
  {
   "cell_type": "code",
   "execution_count": 19,
   "id": "1cf1d655-d0aa-4cfd-9969-84ee5e7f5837",
   "metadata": {},
   "outputs": [
    {
     "name": "stdin",
     "output_type": "stream",
     "text": [
      " 3\n"
     ]
    },
    {
     "name": "stdout",
     "output_type": "stream",
     "text": [
      "Chu vi:18.84\n",
      "Diện tích:28.259999999999998\n"
     ]
    }
   ],
   "source": [
    "#Bài 2.2\n",
    "r=float(input())\n",
    "print(f\"Chu vi:{2*3.14*r}\\nDiện tích:{3.14*r*r}\")"
   ]
  },
  {
   "cell_type": "code",
   "execution_count": 20,
   "id": "8ef85c00-bd59-4dc3-b85f-70e8bf046d16",
   "metadata": {},
   "outputs": [
    {
     "name": "stdin",
     "output_type": "stream",
     "text": [
      " 3\n"
     ]
    },
    {
     "name": "stdout",
     "output_type": "stream",
     "text": [
      "Chu vi: 18.84 Diện tích: 28.259999999999998\n"
     ]
    }
   ],
   "source": [
    "#Bài 2.3\n",
    "r=float(input())\n",
    "print(\"Chu vi:\",2*3.14*r,\"Diện tích:\",3.14*r*r)"
   ]
  },
  {
   "cell_type": "code",
   "execution_count": 30,
   "id": "d1871973-22de-40e2-b139-3286afa9a762",
   "metadata": {},
   "outputs": [
    {
     "name": "stdin",
     "output_type": "stream",
     "text": [
      " 3 4 5\n"
     ]
    },
    {
     "name": "stdout",
     "output_type": "stream",
     "text": [
      "Tam giác vuông\n",
      "Diện tích tam giác S=6.0\n",
      "Chu vi tam giác P=12.0\n"
     ]
    }
   ],
   "source": [
    "#Bài 3\n",
    "a,b,c=map(float,input().split())\n",
    "p=(a+b+c)/2\n",
    "if a>0 and b>0 and c>0 and (a+b)>c and (a+c)>b and (b+c)>a:\n",
    "   if a==b==c:\n",
    "       print(\"Tam giác đều\")\n",
    "   elif  a==b or b==c or a==c:\n",
    "       if  (a**2+b**2)==c**2 or (b**2+c**2)==a**2 or (a**2+c**2)==b**2:\n",
    "           print(\"Tam giác vuông cân\")\n",
    "       else:\n",
    "           print(\"Tam giác cân\")\n",
    "   elif (a**2+b**2)==c**2 or (b**2+c**2)==a**2 or (a**2+c**2)==b**2:\n",
    "        print(\"Tam giác vuông\")\n",
    "   else:\n",
    "        print(\"Tam giác thường\")\n",
    "   print(f\"Diện tích tam giác S={(p*(p-a)*(p-b)*(p-c))**0.5}\")\n",
    "   print(f\"Chu vi tam giác P={a+b+c}\")\n",
    "else:\n",
    "   print(\"Không phải 3 cạnh tam giác\")\n"
   ]
  },
  {
   "cell_type": "code",
   "execution_count": 11,
   "id": "607a07d7-678b-4865-b8d5-0818cebdbf99",
   "metadata": {},
   "outputs": [
    {
     "name": "stdin",
     "output_type": "stream",
     "text": [
      " 3 4 \n"
     ]
    },
    {
     "name": "stdout",
     "output_type": "stream",
     "text": [
      "Giải phương trình: 3.0x+4.0=0\n",
      "Nghiệm của phương trình trên là x=-1.3333333333333333\n"
     ]
    }
   ],
   "source": [
    "#Bài 4.1\n",
    "a,b=map(float,input().split())\n",
    "print(f\"Giải phương trình: {a}x+{b}=0\")\n",
    "if a==0 and b==0:\n",
    "    print(\"Phương trình trên có vô số nghiệm\")\n",
    "elif a==0 and b!=0:\n",
    "    print(\"Phương trình trên vô nghiệm\")\n",
    "else:\n",
    "    print(f\"Nghiệm của phương trình trên là x={-b/a}\")"
   ]
  },
  {
   "cell_type": "code",
   "execution_count": 12,
   "id": "100d44d1-b79c-4827-9a98-832199886186",
   "metadata": {},
   "outputs": [
    {
     "name": "stdin",
     "output_type": "stream",
     "text": [
      " 0 5\n"
     ]
    },
    {
     "name": "stdout",
     "output_type": "stream",
     "text": [
      "Giải phương trình: 0.0x+5.0=0\n",
      "Phương trình trên vô nghiệm\n"
     ]
    }
   ],
   "source": [
    "#Bài 4.2\n",
    "a,b=map(float,input().split())\n",
    "print(f\"Giải phương trình: {a}x+{b}=0\")\n",
    "if a==0:\n",
    "    if b==0:\n",
    "        print(\"Phương trình trên có vô số nghiệm\")\n",
    "    else:\n",
    "        print(\"Phương trình trên vô nghiệm\")\n",
    "else:\n",
    "    print(f\"Nghiệm của phương trình trên là x={-b/a}\")"
   ]
  },
  {
   "cell_type": "code",
   "execution_count": 13,
   "id": "220db2e9-2e20-4718-80a3-1e51a9251e90",
   "metadata": {},
   "outputs": [
    {
     "name": "stdin",
     "output_type": "stream",
     "text": [
      " 4 6\n"
     ]
    },
    {
     "name": "stdout",
     "output_type": "stream",
     "text": [
      "Giải phương trình: 4.0x+6.0=0\n",
      "Nghiệm của phương trình trên là x=-1.5\n"
     ]
    }
   ],
   "source": [
    "#Bài 4.3\n",
    "a,b=map(float,input().split())\n",
    "print(f\"Giải phương trình: {a}x+{b}=0\")\n",
    "if a!=0:\n",
    "    print(f\"Nghiệm của phương trình trên là x={-b/a}\")\n",
    "else:\n",
    "    if b==0:\n",
    "        print(\"Phương trình trên có vô số nghiệm\")\n",
    "    else:\n",
    "        print(\"Phương trình trên vô nghiệm\")"
   ]
  },
  {
   "cell_type": "code",
   "execution_count": 18,
   "id": "c9f662b3-a6c0-44f3-b383-6807c3f85fad",
   "metadata": {},
   "outputs": [
    {
     "name": "stdin",
     "output_type": "stream",
     "text": [
      " 0 3 5\n"
     ]
    },
    {
     "name": "stdout",
     "output_type": "stream",
     "text": [
      "Giải phương trình: 0.0x**2+3.0x+c=0\n",
      "Nghiệm của phương trình trên là x=-1.6666666666666667\n"
     ]
    }
   ],
   "source": [
    "#Bài 5.1\n",
    "a,b,c=map(float,input().split())\n",
    "denta= b**2-4*a*c\n",
    "print(f\"Giải phương trình: {a}x**2+{b}x+c=0\")\n",
    "if a==0 and b==0 and c==0:\n",
    "    print(\"Phương trình trên có vô số nghiệm\")\n",
    "elif a==0 and b==0 and c!=0:\n",
    "    print(\"Phương trình trên vô nghiệm\")\n",
    "elif a==0 and b!=0 and c==0:\n",
    "    print(\"Nghiệm của phương trình trên là x=0\")\n",
    "elif a==0 and b!=0 and c!=0:\n",
    "    print(f\"Nghiệm của phương trình trên là x={-c/b}\")\n",
    "else:\n",
    "    if denta>0:\n",
    "        print(f\"Phương trình có 2 nghiệm thực phân biệt: x1={(-b+denta*0.5)/(2*a)},x2={(-b-denta*0.5)/(2*a)}\")\n",
    "    elif denta==0:\n",
    "        print(f\"Phương trình có 2 nghiệm kép: x1=x2={-b/(2*a)}\")\n",
    "    else :\n",
    "        print(\"Phương trình vô nghiệm trong tập số thức\")\n"
   ]
  },
  {
   "cell_type": "code",
   "execution_count": 19,
   "id": "3c5210ba-54d1-486c-9113-d440ccad12c3",
   "metadata": {},
   "outputs": [
    {
     "name": "stdin",
     "output_type": "stream",
     "text": [
      " 0 5 7\n"
     ]
    },
    {
     "name": "stdout",
     "output_type": "stream",
     "text": [
      "Giải phương trình: 0.0x**2+5.0x+c=0\n",
      "Nghiệm của phương trình trên là x=-1.4\n"
     ]
    }
   ],
   "source": [
    "#Bài 5.2\n",
    "a,b,c=map(float,input().split())\n",
    "denta= b**2-4*a*c\n",
    "print(f\"Giải phương trình: {a}x**2+{b}x+c=0\")\n",
    "if a==0:\n",
    "    if b==0:\n",
    "        if c==0:\n",
    "            print(\"Phương trình trên có vô số nghiệm\")\n",
    "        else:\n",
    "            print(\"Phương trình trên vô nghiệm\")\n",
    "    else:\n",
    "        print(f\"Nghiệm của phương trình trên là x={-c/b}\")\n",
    "else:\n",
    "    if denta>0:\n",
    "        print(f\"Phương trình có 2 nghiệm thực phân biệt: x1={(-b+denta*0.5)/(2*a)},x2={(-b-denta*0.5)/(2*a)}\")\n",
    "    elif denta==0:\n",
    "        print(f\"Phương trình có 2 nghiệm kép: x1=x2={-b/(2*a)}\")\n",
    "    else :\n",
    "        print(\"Phương trình vô nghiệm trong tập số thức\")\n",
    "        "
   ]
  },
  {
   "cell_type": "code",
   "execution_count": 22,
   "id": "6a0337ee-efce-498e-b6d8-1aecf74d21ba",
   "metadata": {},
   "outputs": [
    {
     "name": "stdin",
     "output_type": "stream",
     "text": [
      " 2 3 4 6.7\n"
     ]
    },
    {
     "name": "stdout",
     "output_type": "stream",
     "text": [
      "Số lớn nhất trong các số 2.0; 3.0; 4.0; 6.7 là 6.7\n"
     ]
    }
   ],
   "source": [
    "#Bài 6\n",
    "a,b,c,d=map(float,input(). split())\n",
    "print(f\"Số lớn nhất trong các số {a}; {b}; {c}; {d} là {max(a,b,c,d)}\")"
   ]
  },
  {
   "cell_type": "code",
   "execution_count": 23,
   "id": "80bc611c-f545-4d19-8679-15ccb8939ecc",
   "metadata": {},
   "outputs": [
    {
     "name": "stdin",
     "output_type": "stream",
     "text": [
      " 2 3 4 0.1\n"
     ]
    },
    {
     "name": "stdout",
     "output_type": "stream",
     "text": [
      "Số nhỏ nhất trong các số 2.0; 3.0; 4.0; 0.1 là 0.1\n"
     ]
    }
   ],
   "source": [
    "#Bài 7\n",
    "a,b,c,d=map(float,input(). split())\n",
    "print(f\"Số nhỏ nhất trong các số {a}; {b}; {c}; {d} là {min(a,b,c,d)}\")"
   ]
  },
  {
   "cell_type": "code",
   "execution_count": 31,
   "id": "959a4985-b683-4978-b055-869947d20b89",
   "metadata": {},
   "outputs": [
    {
     "name": "stdin",
     "output_type": "stream",
     "text": [
      " 2 3 4 5 6 7\n"
     ]
    },
    {
     "name": "stdout",
     "output_type": "stream",
     "text": [
      "Giải hệ phương trình tuyến tính 2 ẩn\n",
      "     2.0x+3.0y=4.0\n",
      "     5.0x+6.0y=7.0\n",
      "Hệ phương trình có nghiệm duy nhất: x=-1.0, y=2.0\n"
     ]
    }
   ],
   "source": [
    "#Bài 8\n",
    "a,b,m,c,d,n=map(float,input().split())\n",
    "print(\"Giải hệ phương trình tuyến tính 2 ẩn\")\n",
    "print(f\"     {a}x+{b}y={m}\")\n",
    "print(f\"     {c}x+{d}y={n}\")\n",
    "denta=a*d-b*c\n",
    "dentax=m*d-b*n\n",
    "dentay=a*n-m*c\n",
    "if denta!=0:\n",
    "    print(f\"Hệ phương trình có nghiệm duy nhất: x={dentax/denta}, y={dentay/denta}\")\n",
    "else:\n",
    "    if dentax!=0 or dentay!=0:\n",
    "        print(\"Hệ phương trình vô nghiệm\")\n",
    "    else:\n",
    "        print(\"Hệ phương trình có vô số nghiệm\")\n"
   ]
  },
  {
   "cell_type": "code",
   "execution_count": 7,
   "id": "f3f72f1e-1d69-432d-9ab5-4f2925df5a1f",
   "metadata": {},
   "outputs": [
    {
     "name": "stdin",
     "output_type": "stream",
     "text": [
      "Thời gian làm 1 công việc theo giây: 10356\n"
     ]
    },
    {
     "name": "stdout",
     "output_type": "stream",
     "text": [
      "Thời gian làm 1 công việc hết 2.0 giờ, 52.0 phút, 36.0\n"
     ]
    }
   ],
   "source": [
    "#Bài 9\n",
    "x=float(input(\"Thời gian làm 1 công việc theo giây:\"))\n",
    "if x%3600==0:\n",
    "    print(f\"Thời gian làm 1 công việc hết {x/3600} giờ\")\n",
    "else:\n",
    "    if x%3600<60:\n",
    "        print(f\"Thời gian làm 1 công việc hết {x//3600} giờ, {x%3600} giây\")\n",
    "    elif x%3600>=60:\n",
    "        if (x%3600)%60==0:\n",
    "            print(f\"Thời gian làm 1 công việc hết {x//3600} giờ, {(x%3600)/60} phút\")\n",
    "        else:\n",
    "            print(f\"Thời gian làm 1 công việc hết {x//3600} giờ, {(x%3600)//60} phút, {(x%3600)%60} giây\")"
   ]
  },
  {
   "cell_type": "code",
   "execution_count": 24,
   "id": "2288c885-37bc-484f-bfdf-a94ffb146890",
   "metadata": {},
   "outputs": [
    {
     "name": "stdin",
     "output_type": "stream",
     "text": [
      "Hoành độ tâm I đường tròn: xI= 2\n",
      "Tung độ tâm I đường tròn: yI= 3\n",
      "Bán kính đường tròn: r= 6\n",
      "Hoành độ điểm A: xA= -3\n",
      "Tung độ điểm A: yA= -2\n"
     ]
    },
    {
     "name": "stdout",
     "output_type": "stream",
     "text": [
      "A nằm ngoài đường tròn\n"
     ]
    }
   ],
   "source": [
    "#Bài 10\n",
    "xI=float(input(\"Hoành độ tâm I đường tròn: xI=\"))\n",
    "yI=float(input(\"Tung độ tâm I đường tròn: yI=\"))\n",
    "r=float(input(\"Bán kính đường tròn: r=\"))\n",
    "xA=float(input(\"Hoành độ điểm A: xA=\"))\n",
    "yA=float(input(\"Tung độ điểm A: yA=\"))\n",
    "a=(xA-xI)**2+(yA-yI)**2-r**2\n",
    "if a>0:\n",
    "    print(\"A nằm ngoài đường tròn\")\n",
    "elif a<0:\n",
    "    print(\"A nằm trong đường tròn\")\n",
    "else:\n",
    "    print(\"A nằm trên đường tròn\")"
   ]
  },
  {
   "cell_type": "code",
   "execution_count": 23,
   "id": "cd20364e-131d-4424-9ade-b076ef077600",
   "metadata": {},
   "outputs": [
    {
     "name": "stdin",
     "output_type": "stream",
     "text": [
      " 2\n",
      " 3\n"
     ]
    },
    {
     "name": "stdout",
     "output_type": "stream",
     "text": [
      "x mũ y =8.0\n"
     ]
    }
   ],
   "source": [
    "#Bài 11.1\n",
    "x=float(input())\n",
    "y=float(input())\n",
    "print(f\"x mũ y ={x**y}\")"
   ]
  },
  {
   "cell_type": "code",
   "execution_count": 24,
   "id": "c2010ef2-494e-4c0e-be5b-55d5284ecbbc",
   "metadata": {},
   "outputs": [
    {
     "name": "stdin",
     "output_type": "stream",
     "text": [
      " 2 3\n"
     ]
    },
    {
     "name": "stdout",
     "output_type": "stream",
     "text": [
      "x mũ y =8.0\n"
     ]
    }
   ],
   "source": [
    "#Bài 11.2\n",
    "x,y=map(float,input().split())\n",
    "print(f\"x mũ y ={x**y}\")"
   ]
  }
 ],
 "metadata": {
  "kernelspec": {
   "display_name": "Python 3 (ipykernel)",
   "language": "python",
   "name": "python3"
  },
  "language_info": {
   "codemirror_mode": {
    "name": "ipython",
    "version": 3
   },
   "file_extension": ".py",
   "mimetype": "text/x-python",
   "name": "python",
   "nbconvert_exporter": "python",
   "pygments_lexer": "ipython3",
   "version": "3.13.7"
  }
 },
 "nbformat": 4,
 "nbformat_minor": 5
}
